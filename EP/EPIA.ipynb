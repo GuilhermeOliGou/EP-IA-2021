{
 "cells": [
  {
   "cell_type": "code",
   "execution_count": 1,
   "metadata": {},
   "outputs": [],
   "source": [
    "import pandas as pd\n",
    "import numpy as np\n",
    "import matplotlib.pyplot as plt\n",
    "import sklearn\n",
    "\n",
    "from sklearn.neighbors import KNeighborsClassifier\n",
    "from sklearn.neural_network import MLPClassifier\n",
    "from sklearn.datasets import make_classification\n",
    "from sklearn.model_selection import train_test_split\n",
    "from sklearn.model_selection import cross_val_score\n",
    "from sklearn.tree import DecisionTreeClassifier\n",
    "from sklearn.model_selection import GridSearchCV\n",
    "from sklearn import tree\n",
    "from sklearn.tree import export_graphviz\n",
    "from sklearn.preprocessing import StandardScaler\n",
    "from sklearn import decomposition, datasets\n",
    "from sklearn.pipeline import Pipeline"
   ]
  },
  {
   "cell_type": "code",
   "execution_count": 2,
   "metadata": {},
   "outputs": [
    {
     "data": {
      "text/html": [
       "<div>\n",
       "<style scoped>\n",
       "    .dataframe tbody tr th:only-of-type {\n",
       "        vertical-align: middle;\n",
       "    }\n",
       "\n",
       "    .dataframe tbody tr th {\n",
       "        vertical-align: top;\n",
       "    }\n",
       "\n",
       "    .dataframe thead th {\n",
       "        text-align: right;\n",
       "    }\n",
       "</style>\n",
       "<table border=\"1\" class=\"dataframe\">\n",
       "  <thead>\n",
       "    <tr style=\"text-align: right;\">\n",
       "      <th></th>\n",
       "      <th>V1</th>\n",
       "      <th>V2</th>\n",
       "      <th>V3</th>\n",
       "      <th>V4</th>\n",
       "      <th>V5</th>\n",
       "      <th>V6</th>\n",
       "      <th>V7</th>\n",
       "      <th>V8</th>\n",
       "      <th>V9</th>\n",
       "      <th>V10</th>\n",
       "      <th>...</th>\n",
       "      <th>V21</th>\n",
       "      <th>V22</th>\n",
       "      <th>V23</th>\n",
       "      <th>V24</th>\n",
       "      <th>V25</th>\n",
       "      <th>V26</th>\n",
       "      <th>V27</th>\n",
       "      <th>V28</th>\n",
       "      <th>Amount</th>\n",
       "      <th>Class</th>\n",
       "    </tr>\n",
       "    <tr>\n",
       "      <th>Time</th>\n",
       "      <th></th>\n",
       "      <th></th>\n",
       "      <th></th>\n",
       "      <th></th>\n",
       "      <th></th>\n",
       "      <th></th>\n",
       "      <th></th>\n",
       "      <th></th>\n",
       "      <th></th>\n",
       "      <th></th>\n",
       "      <th></th>\n",
       "      <th></th>\n",
       "      <th></th>\n",
       "      <th></th>\n",
       "      <th></th>\n",
       "      <th></th>\n",
       "      <th></th>\n",
       "      <th></th>\n",
       "      <th></th>\n",
       "      <th></th>\n",
       "      <th></th>\n",
       "    </tr>\n",
       "  </thead>\n",
       "  <tbody>\n",
       "    <tr>\n",
       "      <th>145870.0</th>\n",
       "      <td>0.993874</td>\n",
       "      <td>0.397233</td>\n",
       "      <td>0.839978</td>\n",
       "      <td>0.290866</td>\n",
       "      <td>0.691359</td>\n",
       "      <td>0.326805</td>\n",
       "      <td>0.694458</td>\n",
       "      <td>0.672162</td>\n",
       "      <td>0.713712</td>\n",
       "      <td>0.841309</td>\n",
       "      <td>...</td>\n",
       "      <td>0.448810</td>\n",
       "      <td>0.459762</td>\n",
       "      <td>0.788796</td>\n",
       "      <td>0.524401</td>\n",
       "      <td>0.644597</td>\n",
       "      <td>0.362210</td>\n",
       "      <td>0.655272</td>\n",
       "      <td>0.210542</td>\n",
       "      <td>0.000466</td>\n",
       "      <td>0</td>\n",
       "    </tr>\n",
       "    <tr>\n",
       "      <th>40849.0</th>\n",
       "      <td>0.971607</td>\n",
       "      <td>0.379679</td>\n",
       "      <td>0.908221</td>\n",
       "      <td>0.231300</td>\n",
       "      <td>0.642846</td>\n",
       "      <td>0.324012</td>\n",
       "      <td>0.683621</td>\n",
       "      <td>0.671914</td>\n",
       "      <td>0.641720</td>\n",
       "      <td>0.875479</td>\n",
       "      <td>...</td>\n",
       "      <td>0.444265</td>\n",
       "      <td>0.440702</td>\n",
       "      <td>0.783332</td>\n",
       "      <td>0.468881</td>\n",
       "      <td>0.673030</td>\n",
       "      <td>0.504950</td>\n",
       "      <td>0.657100</td>\n",
       "      <td>0.216959</td>\n",
       "      <td>0.007506</td>\n",
       "      <td>0</td>\n",
       "    </tr>\n",
       "    <tr>\n",
       "      <th>118768.0</th>\n",
       "      <td>0.870586</td>\n",
       "      <td>0.402900</td>\n",
       "      <td>0.942853</td>\n",
       "      <td>0.240077</td>\n",
       "      <td>0.641186</td>\n",
       "      <td>0.343743</td>\n",
       "      <td>0.677511</td>\n",
       "      <td>0.692013</td>\n",
       "      <td>0.717814</td>\n",
       "      <td>0.801554</td>\n",
       "      <td>...</td>\n",
       "      <td>0.461516</td>\n",
       "      <td>0.536381</td>\n",
       "      <td>0.762529</td>\n",
       "      <td>0.774242</td>\n",
       "      <td>0.710497</td>\n",
       "      <td>0.491440</td>\n",
       "      <td>0.634483</td>\n",
       "      <td>0.193677</td>\n",
       "      <td>0.011118</td>\n",
       "      <td>0</td>\n",
       "    </tr>\n",
       "    <tr>\n",
       "      <th>167593.0</th>\n",
       "      <td>0.894704</td>\n",
       "      <td>0.440982</td>\n",
       "      <td>0.887788</td>\n",
       "      <td>0.239532</td>\n",
       "      <td>0.667087</td>\n",
       "      <td>0.275015</td>\n",
       "      <td>0.702330</td>\n",
       "      <td>0.660043</td>\n",
       "      <td>0.728949</td>\n",
       "      <td>0.868640</td>\n",
       "      <td>...</td>\n",
       "      <td>0.463862</td>\n",
       "      <td>0.463133</td>\n",
       "      <td>0.787331</td>\n",
       "      <td>0.621677</td>\n",
       "      <td>0.628134</td>\n",
       "      <td>0.343749</td>\n",
       "      <td>0.689767</td>\n",
       "      <td>0.217354</td>\n",
       "      <td>0.002115</td>\n",
       "      <td>0</td>\n",
       "    </tr>\n",
       "    <tr>\n",
       "      <th>94473.0</th>\n",
       "      <td>0.877354</td>\n",
       "      <td>0.188930</td>\n",
       "      <td>0.841625</td>\n",
       "      <td>0.282109</td>\n",
       "      <td>0.568244</td>\n",
       "      <td>0.411074</td>\n",
       "      <td>0.705039</td>\n",
       "      <td>0.671443</td>\n",
       "      <td>0.958885</td>\n",
       "      <td>0.753548</td>\n",
       "      <td>...</td>\n",
       "      <td>0.478952</td>\n",
       "      <td>0.504779</td>\n",
       "      <td>0.711943</td>\n",
       "      <td>0.705461</td>\n",
       "      <td>0.576103</td>\n",
       "      <td>0.080068</td>\n",
       "      <td>0.638673</td>\n",
       "      <td>0.250198</td>\n",
       "      <td>0.454255</td>\n",
       "      <td>0</td>\n",
       "    </tr>\n",
       "    <tr>\n",
       "      <th>...</th>\n",
       "      <td>...</td>\n",
       "      <td>...</td>\n",
       "      <td>...</td>\n",
       "      <td>...</td>\n",
       "      <td>...</td>\n",
       "      <td>...</td>\n",
       "      <td>...</td>\n",
       "      <td>...</td>\n",
       "      <td>...</td>\n",
       "      <td>...</td>\n",
       "      <td>...</td>\n",
       "      <td>...</td>\n",
       "      <td>...</td>\n",
       "      <td>...</td>\n",
       "      <td>...</td>\n",
       "      <td>...</td>\n",
       "      <td>...</td>\n",
       "      <td>...</td>\n",
       "      <td>...</td>\n",
       "      <td>...</td>\n",
       "      <td>...</td>\n",
       "    </tr>\n",
       "    <tr>\n",
       "      <th>169142.0</th>\n",
       "      <td>0.871959</td>\n",
       "      <td>0.426246</td>\n",
       "      <td>0.767150</td>\n",
       "      <td>0.387004</td>\n",
       "      <td>0.618634</td>\n",
       "      <td>0.226201</td>\n",
       "      <td>0.679727</td>\n",
       "      <td>0.683710</td>\n",
       "      <td>0.590521</td>\n",
       "      <td>0.655778</td>\n",
       "      <td>...</td>\n",
       "      <td>0.471520</td>\n",
       "      <td>0.496714</td>\n",
       "      <td>0.804745</td>\n",
       "      <td>0.528113</td>\n",
       "      <td>0.750131</td>\n",
       "      <td>0.508628</td>\n",
       "      <td>0.687867</td>\n",
       "      <td>0.233314</td>\n",
       "      <td>0.091771</td>\n",
       "      <td>1</td>\n",
       "    </tr>\n",
       "    <tr>\n",
       "      <th>169347.0</th>\n",
       "      <td>0.972680</td>\n",
       "      <td>0.430734</td>\n",
       "      <td>0.753129</td>\n",
       "      <td>0.367048</td>\n",
       "      <td>0.679147</td>\n",
       "      <td>0.261397</td>\n",
       "      <td>0.671280</td>\n",
       "      <td>0.676360</td>\n",
       "      <td>0.639218</td>\n",
       "      <td>0.737080</td>\n",
       "      <td>...</td>\n",
       "      <td>0.463360</td>\n",
       "      <td>0.516856</td>\n",
       "      <td>0.772988</td>\n",
       "      <td>0.593272</td>\n",
       "      <td>0.747928</td>\n",
       "      <td>0.496342</td>\n",
       "      <td>0.696649</td>\n",
       "      <td>0.237787</td>\n",
       "      <td>0.000179</td>\n",
       "      <td>1</td>\n",
       "    </tr>\n",
       "    <tr>\n",
       "      <th>169351.0</th>\n",
       "      <td>0.910089</td>\n",
       "      <td>0.426265</td>\n",
       "      <td>0.833653</td>\n",
       "      <td>0.311248</td>\n",
       "      <td>0.632066</td>\n",
       "      <td>0.329487</td>\n",
       "      <td>0.658194</td>\n",
       "      <td>0.692111</td>\n",
       "      <td>0.663897</td>\n",
       "      <td>0.729082</td>\n",
       "      <td>...</td>\n",
       "      <td>0.470984</td>\n",
       "      <td>0.563576</td>\n",
       "      <td>0.786603</td>\n",
       "      <td>0.627742</td>\n",
       "      <td>0.570014</td>\n",
       "      <td>0.428957</td>\n",
       "      <td>0.696281</td>\n",
       "      <td>0.238680</td>\n",
       "      <td>0.018328</td>\n",
       "      <td>1</td>\n",
       "    </tr>\n",
       "    <tr>\n",
       "      <th>169966.0</th>\n",
       "      <td>0.835833</td>\n",
       "      <td>0.411450</td>\n",
       "      <td>0.741716</td>\n",
       "      <td>0.391013</td>\n",
       "      <td>0.640497</td>\n",
       "      <td>0.178187</td>\n",
       "      <td>0.658620</td>\n",
       "      <td>0.689631</td>\n",
       "      <td>0.612991</td>\n",
       "      <td>0.667575</td>\n",
       "      <td>...</td>\n",
       "      <td>0.467613</td>\n",
       "      <td>0.499612</td>\n",
       "      <td>0.760429</td>\n",
       "      <td>0.562006</td>\n",
       "      <td>0.628050</td>\n",
       "      <td>0.462857</td>\n",
       "      <td>0.741777</td>\n",
       "      <td>0.186858</td>\n",
       "      <td>0.057651</td>\n",
       "      <td>1</td>\n",
       "    </tr>\n",
       "    <tr>\n",
       "      <th>170348.0</th>\n",
       "      <td>0.991366</td>\n",
       "      <td>0.399735</td>\n",
       "      <td>0.822984</td>\n",
       "      <td>0.307721</td>\n",
       "      <td>0.700489</td>\n",
       "      <td>0.324683</td>\n",
       "      <td>0.697342</td>\n",
       "      <td>0.671169</td>\n",
       "      <td>0.727789</td>\n",
       "      <td>0.817960</td>\n",
       "      <td>...</td>\n",
       "      <td>0.452661</td>\n",
       "      <td>0.498109</td>\n",
       "      <td>0.775960</td>\n",
       "      <td>0.480768</td>\n",
       "      <td>0.718508</td>\n",
       "      <td>0.237937</td>\n",
       "      <td>0.661495</td>\n",
       "      <td>0.214430</td>\n",
       "      <td>0.010008</td>\n",
       "      <td>1</td>\n",
       "    </tr>\n",
       "  </tbody>\n",
       "</table>\n",
       "<p>984 rows × 30 columns</p>\n",
       "</div>"
      ],
      "text/plain": [
       "                V1        V2        V3        V4        V5        V6  \\\n",
       "Time                                                                   \n",
       "145870.0  0.993874  0.397233  0.839978  0.290866  0.691359  0.326805   \n",
       "40849.0   0.971607  0.379679  0.908221  0.231300  0.642846  0.324012   \n",
       "118768.0  0.870586  0.402900  0.942853  0.240077  0.641186  0.343743   \n",
       "167593.0  0.894704  0.440982  0.887788  0.239532  0.667087  0.275015   \n",
       "94473.0   0.877354  0.188930  0.841625  0.282109  0.568244  0.411074   \n",
       "...            ...       ...       ...       ...       ...       ...   \n",
       "169142.0  0.871959  0.426246  0.767150  0.387004  0.618634  0.226201   \n",
       "169347.0  0.972680  0.430734  0.753129  0.367048  0.679147  0.261397   \n",
       "169351.0  0.910089  0.426265  0.833653  0.311248  0.632066  0.329487   \n",
       "169966.0  0.835833  0.411450  0.741716  0.391013  0.640497  0.178187   \n",
       "170348.0  0.991366  0.399735  0.822984  0.307721  0.700489  0.324683   \n",
       "\n",
       "                V7        V8        V9       V10  ...       V21       V22  \\\n",
       "Time                                              ...                       \n",
       "145870.0  0.694458  0.672162  0.713712  0.841309  ...  0.448810  0.459762   \n",
       "40849.0   0.683621  0.671914  0.641720  0.875479  ...  0.444265  0.440702   \n",
       "118768.0  0.677511  0.692013  0.717814  0.801554  ...  0.461516  0.536381   \n",
       "167593.0  0.702330  0.660043  0.728949  0.868640  ...  0.463862  0.463133   \n",
       "94473.0   0.705039  0.671443  0.958885  0.753548  ...  0.478952  0.504779   \n",
       "...            ...       ...       ...       ...  ...       ...       ...   \n",
       "169142.0  0.679727  0.683710  0.590521  0.655778  ...  0.471520  0.496714   \n",
       "169347.0  0.671280  0.676360  0.639218  0.737080  ...  0.463360  0.516856   \n",
       "169351.0  0.658194  0.692111  0.663897  0.729082  ...  0.470984  0.563576   \n",
       "169966.0  0.658620  0.689631  0.612991  0.667575  ...  0.467613  0.499612   \n",
       "170348.0  0.697342  0.671169  0.727789  0.817960  ...  0.452661  0.498109   \n",
       "\n",
       "               V23       V24       V25       V26       V27       V28  \\\n",
       "Time                                                                   \n",
       "145870.0  0.788796  0.524401  0.644597  0.362210  0.655272  0.210542   \n",
       "40849.0   0.783332  0.468881  0.673030  0.504950  0.657100  0.216959   \n",
       "118768.0  0.762529  0.774242  0.710497  0.491440  0.634483  0.193677   \n",
       "167593.0  0.787331  0.621677  0.628134  0.343749  0.689767  0.217354   \n",
       "94473.0   0.711943  0.705461  0.576103  0.080068  0.638673  0.250198   \n",
       "...            ...       ...       ...       ...       ...       ...   \n",
       "169142.0  0.804745  0.528113  0.750131  0.508628  0.687867  0.233314   \n",
       "169347.0  0.772988  0.593272  0.747928  0.496342  0.696649  0.237787   \n",
       "169351.0  0.786603  0.627742  0.570014  0.428957  0.696281  0.238680   \n",
       "169966.0  0.760429  0.562006  0.628050  0.462857  0.741777  0.186858   \n",
       "170348.0  0.775960  0.480768  0.718508  0.237937  0.661495  0.214430   \n",
       "\n",
       "            Amount  Class  \n",
       "Time                       \n",
       "145870.0  0.000466      0  \n",
       "40849.0   0.007506      0  \n",
       "118768.0  0.011118      0  \n",
       "167593.0  0.002115      0  \n",
       "94473.0   0.454255      0  \n",
       "...            ...    ...  \n",
       "169142.0  0.091771      1  \n",
       "169347.0  0.000179      1  \n",
       "169351.0  0.018328      1  \n",
       "169966.0  0.057651      1  \n",
       "170348.0  0.010008      1  \n",
       "\n",
       "[984 rows x 30 columns]"
      ]
     },
     "execution_count": 2,
     "metadata": {},
     "output_type": "execute_result"
    }
   ],
   "source": [
    "#upload da base já tratada\n",
    "df = pd.read_csv(r'BaseTratada.csv', index_col=[0])\n",
    "df"
   ]
  },
  {
   "cell_type": "code",
   "execution_count": 3,
   "metadata": {},
   "outputs": [],
   "source": [
    "#separação da base em treino e teste\n",
    "X = df.drop(columns=['Class'])\n",
    "y = df['Class'].values\n",
    "\n",
    "from sklearn.model_selection import train_test_split\n",
    "X_train, X_test, y_train, y_test = train_test_split(X, y, test_size=0.2, random_state=1, stratify=y)"
   ]
  },
  {
   "cell_type": "markdown",
   "metadata": {},
   "source": [
    "## KNN"
   ]
  },
  {
   "cell_type": "code",
   "execution_count": 4,
   "metadata": {},
   "outputs": [
    {
     "name": "stdout",
     "output_type": "stream",
     "text": [
      "[0.96969697 0.95959596 0.94949495 0.86868687 0.89795918 0.91836735\n",
      " 0.97959184 0.92857143 0.94897959 0.89795918]\n",
      "cv_scores mean:0.9318903318903319\n"
     ]
    }
   ],
   "source": [
    "#testes no modelo KNN com cross validation\n",
    "knn_cv = KNeighborsClassifier(n_neighbors=3, metric = 'euclidean')\n",
    "cv_scores = cross_val_score(knn_cv, X, y, cv=10)\n",
    "#printa todos as acuracias e faz a media delas\n",
    "print(cv_scores)\n",
    "print('cv_scores mean:{}'.format(np.mean(cv_scores)))"
   ]
  },
  {
   "cell_type": "code",
   "execution_count": 5,
   "metadata": {},
   "outputs": [
    {
     "name": "stdout",
     "output_type": "stream",
     "text": [
      "[0.95959596 0.96969697 1.         0.86868687 0.89795918 0.91836735\n",
      " 0.97959184 0.90816327 0.93877551 0.8877551 ]\n",
      "cv_scores mean:0.9328592042877757\n"
     ]
    }
   ],
   "source": [
    "#testes no modelo KNN com cross validation\n",
    "knn_cv = KNeighborsClassifier(n_neighbors=4, metric = 'euclidean')\n",
    "cv_scores = cross_val_score(knn_cv, X, y, cv=10)\n",
    "#printa todos as acuracias e faz a media delas\n",
    "print(cv_scores)\n",
    "print('cv_scores mean:{}'.format(np.mean(cv_scores)))"
   ]
  },
  {
   "cell_type": "code",
   "execution_count": 6,
   "metadata": {},
   "outputs": [
    {
     "name": "stdout",
     "output_type": "stream",
     "text": [
      "[0.96969697 0.96969697 0.96969697 0.86868687 0.89795918 0.93877551\n",
      " 0.98979592 0.91836735 0.94897959 0.8877551 ]\n",
      "cv_scores mean:0.9359410430839002\n"
     ]
    }
   ],
   "source": [
    "#testes no modelo KNN com cross validation\n",
    "knn_cv = KNeighborsClassifier(n_neighbors=5, metric = 'manhattan')\n",
    "cv_scores = cross_val_score(knn_cv, X, y, cv=10)\n",
    "#printa todos as acuracias e faz a media delas\n",
    "print(cv_scores)\n",
    "print('cv_scores mean:{}'.format(np.mean(cv_scores)))"
   ]
  },
  {
   "cell_type": "code",
   "execution_count": 7,
   "metadata": {},
   "outputs": [
    {
     "name": "stdout",
     "output_type": "stream",
     "text": [
      "[0.95959596 0.96969697 0.98989899 0.85858586 0.89795918 0.91836735\n",
      " 0.96938776 0.89795918 0.93877551 0.8877551 ]\n",
      "cv_scores mean:0.9287981859410431\n"
     ]
    }
   ],
   "source": [
    "#testes no modelo KNN com cross validation\n",
    "knn_cv = KNeighborsClassifier(n_neighbors=10, metric = 'manhattan')\n",
    "cv_scores = cross_val_score(knn_cv, X, y, cv=10)\n",
    "#printa todos as acuracias e faz a media delas\n",
    "print(cv_scores)\n",
    "print('cv_scores mean:{}'.format(np.mean(cv_scores)))"
   ]
  },
  {
   "cell_type": "code",
   "execution_count": 8,
   "metadata": {},
   "outputs": [
    {
     "name": "stdout",
     "output_type": "stream",
     "text": [
      "[0.94949495 0.96969697 0.96969697 0.85858586 0.8877551  0.91836735\n",
      " 0.95918367 0.91836735 0.93877551 0.87755102]\n",
      "cv_scores mean:0.9247474747474748\n"
     ]
    }
   ],
   "source": [
    "#testes no modelo KNN com cross validation\n",
    "knn_cv = KNeighborsClassifier(n_neighbors=9, metric = 'euclidean')\n",
    "cv_scores = cross_val_score(knn_cv, X, y, cv=10)\n",
    "#printa todos as acuracias e faz a media delas\n",
    "print(cv_scores)\n",
    "print('cv_scores mean:{}'.format(np.mean(cv_scores)))"
   ]
  },
  {
   "cell_type": "markdown",
   "metadata": {},
   "source": [
    "## MLP"
   ]
  },
  {
   "cell_type": "code",
   "execution_count": 15,
   "metadata": {},
   "outputs": [
    {
     "name": "stderr",
     "output_type": "stream",
     "text": [
      "c:\\users\\guilh\\appdata\\local\\programs\\python\\python39\\lib\\site-packages\\sklearn\\neural_network\\_multilayer_perceptron.py:614: ConvergenceWarning: Stochastic Optimizer: Maximum iterations (100) reached and the optimization hasn't converged yet.\n",
      "  warnings.warn(\n",
      "c:\\users\\guilh\\appdata\\local\\programs\\python\\python39\\lib\\site-packages\\sklearn\\neural_network\\_multilayer_perceptron.py:614: ConvergenceWarning: Stochastic Optimizer: Maximum iterations (100) reached and the optimization hasn't converged yet.\n",
      "  warnings.warn(\n",
      "c:\\users\\guilh\\appdata\\local\\programs\\python\\python39\\lib\\site-packages\\sklearn\\neural_network\\_multilayer_perceptron.py:614: ConvergenceWarning: Stochastic Optimizer: Maximum iterations (100) reached and the optimization hasn't converged yet.\n",
      "  warnings.warn(\n",
      "c:\\users\\guilh\\appdata\\local\\programs\\python\\python39\\lib\\site-packages\\sklearn\\neural_network\\_multilayer_perceptron.py:614: ConvergenceWarning: Stochastic Optimizer: Maximum iterations (100) reached and the optimization hasn't converged yet.\n",
      "  warnings.warn(\n",
      "c:\\users\\guilh\\appdata\\local\\programs\\python\\python39\\lib\\site-packages\\sklearn\\neural_network\\_multilayer_perceptron.py:614: ConvergenceWarning: Stochastic Optimizer: Maximum iterations (100) reached and the optimization hasn't converged yet.\n",
      "  warnings.warn(\n",
      "c:\\users\\guilh\\appdata\\local\\programs\\python\\python39\\lib\\site-packages\\sklearn\\neural_network\\_multilayer_perceptron.py:614: ConvergenceWarning: Stochastic Optimizer: Maximum iterations (100) reached and the optimization hasn't converged yet.\n",
      "  warnings.warn(\n",
      "c:\\users\\guilh\\appdata\\local\\programs\\python\\python39\\lib\\site-packages\\sklearn\\neural_network\\_multilayer_perceptron.py:614: ConvergenceWarning: Stochastic Optimizer: Maximum iterations (100) reached and the optimization hasn't converged yet.\n",
      "  warnings.warn(\n",
      "c:\\users\\guilh\\appdata\\local\\programs\\python\\python39\\lib\\site-packages\\sklearn\\neural_network\\_multilayer_perceptron.py:614: ConvergenceWarning: Stochastic Optimizer: Maximum iterations (100) reached and the optimization hasn't converged yet.\n",
      "  warnings.warn(\n",
      "c:\\users\\guilh\\appdata\\local\\programs\\python\\python39\\lib\\site-packages\\sklearn\\neural_network\\_multilayer_perceptron.py:614: ConvergenceWarning: Stochastic Optimizer: Maximum iterations (100) reached and the optimization hasn't converged yet.\n",
      "  warnings.warn(\n"
     ]
    },
    {
     "name": "stdout",
     "output_type": "stream",
     "text": [
      "[0.95959596 0.95959596 0.98989899 0.86868687 0.84693878 0.90816327\n",
      " 0.96938776 0.89795918 0.93877551 0.8877551 ]\n",
      "cv_scores mean:0.9226757369614512\n"
     ]
    },
    {
     "name": "stderr",
     "output_type": "stream",
     "text": [
      "c:\\users\\guilh\\appdata\\local\\programs\\python\\python39\\lib\\site-packages\\sklearn\\neural_network\\_multilayer_perceptron.py:614: ConvergenceWarning: Stochastic Optimizer: Maximum iterations (100) reached and the optimization hasn't converged yet.\n",
      "  warnings.warn(\n"
     ]
    }
   ],
   "source": [
    "#testes no modelo MLP com cross Validation\n",
    "mlp_cv = MLPClassifier(hidden_layer_sizes=50, max_iter=100)\n",
    "cv_scores = cross_val_score(mlp_cv, X, y, cv=10)\n",
    "print(cv_scores)\n",
    "print('cv_scores mean:{}'.format(np.mean(cv_scores)))"
   ]
  },
  {
   "cell_type": "code",
   "execution_count": 10,
   "metadata": {},
   "outputs": [
    {
     "name": "stdout",
     "output_type": "stream",
     "text": [
      "[0.96969697 0.96969697 0.97979798 0.84848485 0.85714286 0.91836735\n",
      " 0.96938776 0.90816327 0.95918367 0.91836735]\n",
      "cv_scores mean:0.9298289012574728\n"
     ]
    },
    {
     "name": "stderr",
     "output_type": "stream",
     "text": [
      "c:\\users\\guilh\\appdata\\local\\programs\\python\\python39\\lib\\site-packages\\sklearn\\neural_network\\_multilayer_perceptron.py:614: ConvergenceWarning: Stochastic Optimizer: Maximum iterations (300) reached and the optimization hasn't converged yet.\n",
      "  warnings.warn(\n"
     ]
    }
   ],
   "source": [
    "mlp_cv = MLPClassifier(hidden_layer_sizes=100, max_iter=300)\n",
    "cv_scores = cross_val_score(mlp_cv, X, y, cv=10)\n",
    "print(cv_scores)\n",
    "print('cv_scores mean:{}'.format(np.mean(cv_scores)))"
   ]
  },
  {
   "cell_type": "code",
   "execution_count": 14,
   "metadata": {},
   "outputs": [
    {
     "name": "stdout",
     "output_type": "stream",
     "text": [
      "[0.96969697 0.96969697 0.97979798 0.85858586 0.85714286 0.91836735\n",
      " 0.95918367 0.89795918 0.95918367 0.89795918]\n",
      "cv_scores mean:0.9267573696145124\n"
     ]
    }
   ],
   "source": [
    "mlp_cv = MLPClassifier(hidden_layer_sizes=150, max_iter=400)\n",
    "cv_scores = cross_val_score(mlp_cv, X, y, cv=10)\n",
    "print(cv_scores)\n",
    "print('cv_scores mean:{}'.format(np.mean(cv_scores)))"
   ]
  },
  {
   "cell_type": "code",
   "execution_count": 12,
   "metadata": {},
   "outputs": [
    {
     "name": "stderr",
     "output_type": "stream",
     "text": [
      "c:\\users\\guilh\\appdata\\local\\programs\\python\\python39\\lib\\site-packages\\sklearn\\neural_network\\_multilayer_perceptron.py:614: ConvergenceWarning: Stochastic Optimizer: Maximum iterations (300) reached and the optimization hasn't converged yet.\n",
      "  warnings.warn(\n",
      "c:\\users\\guilh\\appdata\\local\\programs\\python\\python39\\lib\\site-packages\\sklearn\\neural_network\\_multilayer_perceptron.py:614: ConvergenceWarning: Stochastic Optimizer: Maximum iterations (300) reached and the optimization hasn't converged yet.\n",
      "  warnings.warn(\n",
      "c:\\users\\guilh\\appdata\\local\\programs\\python\\python39\\lib\\site-packages\\sklearn\\neural_network\\_multilayer_perceptron.py:614: ConvergenceWarning: Stochastic Optimizer: Maximum iterations (300) reached and the optimization hasn't converged yet.\n",
      "  warnings.warn(\n",
      "c:\\users\\guilh\\appdata\\local\\programs\\python\\python39\\lib\\site-packages\\sklearn\\neural_network\\_multilayer_perceptron.py:614: ConvergenceWarning: Stochastic Optimizer: Maximum iterations (300) reached and the optimization hasn't converged yet.\n",
      "  warnings.warn(\n",
      "c:\\users\\guilh\\appdata\\local\\programs\\python\\python39\\lib\\site-packages\\sklearn\\neural_network\\_multilayer_perceptron.py:614: ConvergenceWarning: Stochastic Optimizer: Maximum iterations (300) reached and the optimization hasn't converged yet.\n",
      "  warnings.warn(\n",
      "c:\\users\\guilh\\appdata\\local\\programs\\python\\python39\\lib\\site-packages\\sklearn\\neural_network\\_multilayer_perceptron.py:614: ConvergenceWarning: Stochastic Optimizer: Maximum iterations (300) reached and the optimization hasn't converged yet.\n",
      "  warnings.warn(\n",
      "c:\\users\\guilh\\appdata\\local\\programs\\python\\python39\\lib\\site-packages\\sklearn\\neural_network\\_multilayer_perceptron.py:614: ConvergenceWarning: Stochastic Optimizer: Maximum iterations (300) reached and the optimization hasn't converged yet.\n",
      "  warnings.warn(\n",
      "c:\\users\\guilh\\appdata\\local\\programs\\python\\python39\\lib\\site-packages\\sklearn\\neural_network\\_multilayer_perceptron.py:614: ConvergenceWarning: Stochastic Optimizer: Maximum iterations (300) reached and the optimization hasn't converged yet.\n",
      "  warnings.warn(\n"
     ]
    },
    {
     "name": "stdout",
     "output_type": "stream",
     "text": [
      "[0.94949495 0.96969697 0.97979798 0.86868687 0.86734694 0.91836735\n",
      " 0.96938776 0.89795918 0.95918367 0.89795918]\n",
      "cv_scores mean:0.9277880849309421\n"
     ]
    },
    {
     "name": "stderr",
     "output_type": "stream",
     "text": [
      "c:\\users\\guilh\\appdata\\local\\programs\\python\\python39\\lib\\site-packages\\sklearn\\neural_network\\_multilayer_perceptron.py:614: ConvergenceWarning: Stochastic Optimizer: Maximum iterations (300) reached and the optimization hasn't converged yet.\n",
      "  warnings.warn(\n"
     ]
    }
   ],
   "source": [
    "mlp_cv = MLPClassifier(hidden_layer_sizes=20, max_iter=300)\n",
    "cv_scores = cross_val_score(mlp_cv, X, y, cv=10)\n",
    "print(cv_scores)\n",
    "print('cv_scores mean:{}'.format(np.mean(cv_scores)))"
   ]
  },
  {
   "cell_type": "code",
   "execution_count": 13,
   "metadata": {},
   "outputs": [
    {
     "name": "stdout",
     "output_type": "stream",
     "text": [
      "[0.96969697 0.96969697 0.97979798 0.84848485 0.85714286 0.91836735\n",
      " 0.95918367 0.89795918 0.95918367 0.91836735]\n",
      "cv_scores mean:0.9277880849309422\n"
     ]
    }
   ],
   "source": [
    "mlp_cv = MLPClassifier(hidden_layer_sizes=200, max_iter=500)\n",
    "cv_scores = cross_val_score(mlp_cv, X, y, cv=10)\n",
    "print(cv_scores)\n",
    "print('cv_scores mean:{}'.format(np.mean(cv_scores)))"
   ]
  },
  {
   "cell_type": "markdown",
   "metadata": {},
   "source": [
    "## Decision Trees"
   ]
  },
  {
   "cell_type": "code",
   "execution_count": 5,
   "metadata": {},
   "outputs": [
    {
     "name": "stdout",
     "output_type": "stream",
     "text": [
      "[0.92929293 0.94949495 0.98989899 0.83838384 0.86734694 0.92857143\n",
      " 0.91836735 0.91836735 0.93877551 0.89795918]\n",
      "cv_scores mean:0.9176458462172749\n"
     ]
    }
   ],
   "source": [
    "#testes no modelo Decision Tree com cross validation\n",
    "dt_cv = DecisionTreeClassifier(criterion='gini', max_depth=2, min_samples_leaf=1)\n",
    "cv_scores = cross_val_score(dt_cv, X, y, cv=10)\n",
    "print(cv_scores)\n",
    "print('cv_scores mean:{}'.format(np.mean(cv_scores)))"
   ]
  },
  {
   "cell_type": "code",
   "execution_count": 6,
   "metadata": {},
   "outputs": [],
   "source": [
    "#standard scaler para padronizar as variaveis\n",
    "std_slc = StandardScaler()"
   ]
  },
  {
   "cell_type": "code",
   "execution_count": 7,
   "metadata": {},
   "outputs": [],
   "source": [
    "#pca para diminuir a dimensao das variaveis\n",
    "pca = decomposition.PCA()"
   ]
  },
  {
   "cell_type": "code",
   "execution_count": 8,
   "metadata": {},
   "outputs": [],
   "source": [
    "dec_tree = tree.DecisionTreeClassifier()"
   ]
  },
  {
   "cell_type": "code",
   "execution_count": 9,
   "metadata": {},
   "outputs": [],
   "source": [
    "#pipeline para automatizar o modelo de decision tree \n",
    "pipe = Pipeline(steps=[('std_slc', std_slc),('pca', pca), ('dec_tree', dec_tree)])"
   ]
  },
  {
   "cell_type": "code",
   "execution_count": 10,
   "metadata": {},
   "outputs": [],
   "source": [
    "n_components = list(range(1,X.shape[1]+1,1))"
   ]
  },
  {
   "cell_type": "code",
   "execution_count": 11,
   "metadata": {},
   "outputs": [],
   "source": [
    "criterion = ['gini', 'entropy']\n",
    "max_depth = [2,4,6,8,10]\n",
    "min_samples_leaf = [1,2,3,4,5]"
   ]
  },
  {
   "cell_type": "code",
   "execution_count": 12,
   "metadata": {},
   "outputs": [],
   "source": [
    "parameters = dict(pca__n_components=n_components, dec_tree__criterion=criterion, dec_tree__max_depth=max_depth, dec_tree__min_samples_leaf = min_samples_leaf)"
   ]
  },
  {
   "cell_type": "code",
   "execution_count": 15,
   "metadata": {},
   "outputs": [
    {
     "data": {
      "text/plain": [
       "GridSearchCV(estimator=Pipeline(steps=[('std_slc', StandardScaler()),\n",
       "                                       ('pca', PCA()),\n",
       "                                       ('dec_tree', DecisionTreeClassifier())]),\n",
       "             param_grid={'dec_tree__criterion': ['gini', 'entropy'],\n",
       "                         'dec_tree__max_depth': [2, 4, 6, 8, 10],\n",
       "                         'dec_tree__min_samples_leaf': [1, 2, 3, 4, 5],\n",
       "                         'pca__n_components': [1, 2, 3, 4, 5, 6, 7, 8, 9, 10,\n",
       "                                               11, 12, 13, 14, 15, 16, 17, 18,\n",
       "                                               19, 20, 21, 22, 23, 24, 25, 26,\n",
       "                                               27, 28, 29]})"
      ]
     },
     "execution_count": 15,
     "metadata": {},
     "output_type": "execute_result"
    }
   ],
   "source": [
    "#Utilização de Grid search para encontrar os melhores parametros para a arvore e obter a melhor acuracia\n",
    "clf_GS = GridSearchCV(pipe, parameters)\n",
    "clf_GS.fit(X, y)"
   ]
  },
  {
   "cell_type": "code",
   "execution_count": 17,
   "metadata": {},
   "outputs": [
    {
     "name": "stdout",
     "output_type": "stream",
     "text": [
      "Melhor Criterion: entropy\n",
      "Melhor max_depth: 4\n",
      "Melhor numero de componentes: 14\n",
      "Melhor numero min de folhas: 3\n",
      "\n",
      "DecisionTreeClassifier(criterion='entropy', max_depth=4, min_samples_leaf=3)\n",
      "Acuracia: 0.918683310887807\n"
     ]
    }
   ],
   "source": [
    "print('Melhor Criterion:', clf_GS.best_estimator_.get_params()['dec_tree__criterion'])\n",
    "print('Melhor max_depth:', clf_GS.best_estimator_.get_params()['dec_tree__max_depth'])\n",
    "print('Melhor numero de componentes:', clf_GS.best_estimator_.get_params()['pca__n_components'])\n",
    "print('Melhor numero min de folhas:', clf_GS.best_estimator_.get_params()['dec_tree__min_samples_leaf'])\n",
    "print(); print(clf_GS.best_estimator_.get_params()['dec_tree'])\n",
    "print('Acuracia:', clf_GS.best_score_)"
   ]
  },
  {
   "cell_type": "code",
   "execution_count": null,
   "metadata": {},
   "outputs": [],
   "source": []
  }
 ],
 "metadata": {
  "kernelspec": {
   "display_name": "Python 3",
   "language": "python",
   "name": "python3"
  },
  "language_info": {
   "codemirror_mode": {
    "name": "ipython",
    "version": 3
   },
   "file_extension": ".py",
   "mimetype": "text/x-python",
   "name": "python",
   "nbconvert_exporter": "python",
   "pygments_lexer": "ipython3",
   "version": "3.9.5"
  }
 },
 "nbformat": 4,
 "nbformat_minor": 2
}
